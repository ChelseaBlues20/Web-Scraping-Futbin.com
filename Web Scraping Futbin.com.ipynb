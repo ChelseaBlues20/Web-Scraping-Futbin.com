{
 "cells": [
  {
   "cell_type": "markdown",
   "metadata": {},
   "source": [
    "# Web Scraping Futbin.com"
   ]
  },
  {
   "cell_type": "markdown",
   "metadata": {},
   "source": [
    "1. [Loading our Data and Libraries](#ld) <br>\n",
    "2. [Scraping the Futbin-ID](#Id) <br>\n",
    "3. [Scraping the Time-Series Data](#ts) <br>"
   ]
  },
  {
   "cell_type": "markdown",
   "metadata": {},
   "source": [
    "***"
   ]
  },
  {
   "cell_type": "markdown",
   "metadata": {},
   "source": [
    "## Loading/Preparing our Data and Libraries\n",
    "<a id=\"ld\" > "
   ]
  },
  {
   "cell_type": "code",
   "execution_count": 2,
   "metadata": {},
   "outputs": [],
   "source": [
    "import pandas as pd\n",
    "import numpy as np\n",
    "import requests\n",
    "import json\n",
    "import requests\n",
    "from datetime import datetime\n",
    "from bs4 import BeautifulSoup"
   ]
  },
  {
   "cell_type": "code",
   "execution_count": 3,
   "metadata": {},
   "outputs": [],
   "source": [
    "fifa = pd.read_csv('FIFA19 - Ultimate Team players.csv', low_memory=False)"
   ]
  },
  {
   "cell_type": "code",
   "execution_count": 112,
   "metadata": {},
   "outputs": [
    {
     "data": {
      "text/html": [
       "<div>\n",
       "<style scoped>\n",
       "    .dataframe tbody tr th:only-of-type {\n",
       "        vertical-align: middle;\n",
       "    }\n",
       "\n",
       "    .dataframe tbody tr th {\n",
       "        vertical-align: top;\n",
       "    }\n",
       "\n",
       "    .dataframe thead th {\n",
       "        text-align: right;\n",
       "    }\n",
       "</style>\n",
       "<table border=\"1\" class=\"dataframe\">\n",
       "  <thead>\n",
       "    <tr style=\"text-align: right;\">\n",
       "      <th></th>\n",
       "      <th>player_ID</th>\n",
       "      <th>player_name</th>\n",
       "      <th>player_extended_name</th>\n",
       "      <th>quality</th>\n",
       "      <th>revision</th>\n",
       "      <th>origin</th>\n",
       "      <th>overall</th>\n",
       "      <th>club</th>\n",
       "      <th>league</th>\n",
       "      <th>nationality</th>\n",
       "      <th>...</th>\n",
       "      <th>rf</th>\n",
       "      <th>lf</th>\n",
       "      <th>rw</th>\n",
       "      <th>lw</th>\n",
       "      <th>st</th>\n",
       "      <th>price_ps4</th>\n",
       "      <th>price_xbox</th>\n",
       "      <th>price_pc</th>\n",
       "      <th>traits</th>\n",
       "      <th>specialties</th>\n",
       "    </tr>\n",
       "  </thead>\n",
       "  <tbody>\n",
       "    <tr>\n",
       "      <th>0</th>\n",
       "      <td>2</td>\n",
       "      <td>Maradona</td>\n",
       "      <td>Diego Maradona</td>\n",
       "      <td>Gold - Rare</td>\n",
       "      <td>Icon</td>\n",
       "      <td>NaN</td>\n",
       "      <td>97</td>\n",
       "      <td>Icons</td>\n",
       "      <td>Icons</td>\n",
       "      <td>Argentina</td>\n",
       "      <td>...</td>\n",
       "      <td>94</td>\n",
       "      <td>94</td>\n",
       "      <td>94</td>\n",
       "      <td>94.0</td>\n",
       "      <td>90</td>\n",
       "      <td>NaN</td>\n",
       "      <td>NaN</td>\n",
       "      <td>NaN</td>\n",
       "      <td>Avoids Using Weaker Foot, Finesse Shot, Flair,...</td>\n",
       "      <td>Speedster, Dribbler, Play Maker, Distance Shoo...</td>\n",
       "    </tr>\n",
       "    <tr>\n",
       "      <th>1</th>\n",
       "      <td>3</td>\n",
       "      <td>Ronaldo</td>\n",
       "      <td>Nazário de Lima Ronaldo Luís</td>\n",
       "      <td>Gold - Rare</td>\n",
       "      <td>Icon</td>\n",
       "      <td>NaN</td>\n",
       "      <td>96</td>\n",
       "      <td>Icons</td>\n",
       "      <td>Icons</td>\n",
       "      <td>Brazil</td>\n",
       "      <td>...</td>\n",
       "      <td>94</td>\n",
       "      <td>94</td>\n",
       "      <td>92</td>\n",
       "      <td>92.0</td>\n",
       "      <td>94</td>\n",
       "      <td>NaN</td>\n",
       "      <td>15000000.0</td>\n",
       "      <td>NaN</td>\n",
       "      <td>Tries To Beat Defensive Line, Finesse Shot</td>\n",
       "      <td>Speedster, Dribbler, Distance Shooter, FK Spec...</td>\n",
       "    </tr>\n",
       "    <tr>\n",
       "      <th>2</th>\n",
       "      <td>4</td>\n",
       "      <td>Pelé</td>\n",
       "      <td>Arantes Nascimento Edson</td>\n",
       "      <td>Gold - Rare</td>\n",
       "      <td>Icon</td>\n",
       "      <td>NaN</td>\n",
       "      <td>95</td>\n",
       "      <td>Icons</td>\n",
       "      <td>Icons</td>\n",
       "      <td>Brazil</td>\n",
       "      <td>...</td>\n",
       "      <td>94</td>\n",
       "      <td>94</td>\n",
       "      <td>94</td>\n",
       "      <td>94.0</td>\n",
       "      <td>92</td>\n",
       "      <td>9250000.0</td>\n",
       "      <td>6200000.0</td>\n",
       "      <td>NaN</td>\n",
       "      <td>Finesse Shot</td>\n",
       "      <td>Speedster, Dribbler, Distance Shooter, Crosser...</td>\n",
       "    </tr>\n",
       "    <tr>\n",
       "      <th>3</th>\n",
       "      <td>5</td>\n",
       "      <td>Maradona</td>\n",
       "      <td>Diego Maradona</td>\n",
       "      <td>Gold - Rare</td>\n",
       "      <td>Icon</td>\n",
       "      <td>NaN</td>\n",
       "      <td>95</td>\n",
       "      <td>Icons</td>\n",
       "      <td>Icons</td>\n",
       "      <td>Argentina</td>\n",
       "      <td>...</td>\n",
       "      <td>92</td>\n",
       "      <td>92</td>\n",
       "      <td>92</td>\n",
       "      <td>92.0</td>\n",
       "      <td>88</td>\n",
       "      <td>5000000.0</td>\n",
       "      <td>2799000.0</td>\n",
       "      <td>NaN</td>\n",
       "      <td>Avoids Using Weaker Foot, Finesse Shot, Flair,...</td>\n",
       "      <td>Dribbler, Play Maker, Distance Shooter, Crosse...</td>\n",
       "    </tr>\n",
       "    <tr>\n",
       "      <th>4</th>\n",
       "      <td>6</td>\n",
       "      <td>Maldini</td>\n",
       "      <td>Paolo Maldini</td>\n",
       "      <td>Gold - Rare</td>\n",
       "      <td>Icon</td>\n",
       "      <td>NaN</td>\n",
       "      <td>94</td>\n",
       "      <td>Icons</td>\n",
       "      <td>Icons</td>\n",
       "      <td>Italy</td>\n",
       "      <td>...</td>\n",
       "      <td>68</td>\n",
       "      <td>68</td>\n",
       "      <td>69</td>\n",
       "      <td>69.0</td>\n",
       "      <td>70</td>\n",
       "      <td>NaN</td>\n",
       "      <td>NaN</td>\n",
       "      <td>NaN</td>\n",
       "      <td>Team Player</td>\n",
       "      <td>Aerial Threat, Tackler, Tactician, Complete De...</td>\n",
       "    </tr>\n",
       "  </tbody>\n",
       "</table>\n",
       "<p>5 rows × 83 columns</p>\n",
       "</div>"
      ],
      "text/plain": [
       "   player_ID player_name          player_extended_name      quality revision  \\\n",
       "0          2    Maradona                Diego Maradona  Gold - Rare     Icon   \n",
       "1          3     Ronaldo  Nazário de Lima Ronaldo Luís  Gold - Rare     Icon   \n",
       "2          4        Pelé      Arantes Nascimento Edson  Gold - Rare     Icon   \n",
       "3          5    Maradona                Diego Maradona  Gold - Rare     Icon   \n",
       "4          6     Maldini                 Paolo Maldini  Gold - Rare     Icon   \n",
       "\n",
       "  origin  overall   club league nationality  \\\n",
       "0    NaN       97  Icons  Icons   Argentina   \n",
       "1    NaN       96  Icons  Icons      Brazil   \n",
       "2    NaN       95  Icons  Icons      Brazil   \n",
       "3    NaN       95  Icons  Icons   Argentina   \n",
       "4    NaN       94  Icons  Icons       Italy   \n",
       "\n",
       "                         ...                          rf  lf  rw    lw  st  \\\n",
       "0                        ...                          94  94  94  94.0  90   \n",
       "1                        ...                          94  94  92  92.0  94   \n",
       "2                        ...                          94  94  94  94.0  92   \n",
       "3                        ...                          92  92  92  92.0  88   \n",
       "4                        ...                          68  68  69  69.0  70   \n",
       "\n",
       "   price_ps4  price_xbox  price_pc  \\\n",
       "0        NaN         NaN       NaN   \n",
       "1        NaN  15000000.0       NaN   \n",
       "2  9250000.0   6200000.0       NaN   \n",
       "3  5000000.0   2799000.0       NaN   \n",
       "4        NaN         NaN       NaN   \n",
       "\n",
       "                                              traits  \\\n",
       "0  Avoids Using Weaker Foot, Finesse Shot, Flair,...   \n",
       "1         Tries To Beat Defensive Line, Finesse Shot   \n",
       "2                                       Finesse Shot   \n",
       "3  Avoids Using Weaker Foot, Finesse Shot, Flair,...   \n",
       "4                                        Team Player   \n",
       "\n",
       "                                         specialties  \n",
       "0  Speedster, Dribbler, Play Maker, Distance Shoo...  \n",
       "1  Speedster, Dribbler, Distance Shooter, FK Spec...  \n",
       "2  Speedster, Dribbler, Distance Shooter, Crosser...  \n",
       "3  Dribbler, Play Maker, Distance Shooter, Crosse...  \n",
       "4  Aerial Threat, Tackler, Tactician, Complete De...  \n",
       "\n",
       "[5 rows x 83 columns]"
      ]
     },
     "execution_count": 112,
     "metadata": {},
     "output_type": "execute_result"
    }
   ],
   "source": [
    "fifa.head()"
   ]
  },
  {
   "cell_type": "code",
   "execution_count": 5,
   "metadata": {},
   "outputs": [
    {
     "data": {
      "text/plain": [
       "0"
      ]
     },
     "execution_count": 5,
     "metadata": {},
     "output_type": "execute_result"
    }
   ],
   "source": [
    "fifa['player_ID'].duplicated().sum()"
   ]
  },
  {
   "cell_type": "code",
   "execution_count": 36,
   "metadata": {},
   "outputs": [],
   "source": [
    "# Eliminating incorrect entries\n",
    "fifa = fifa[fifa['player_ID']!=210]\n",
    "fifa = fifa[fifa['player_ID']!=16581]"
   ]
  },
  {
   "cell_type": "code",
   "execution_count": 37,
   "metadata": {},
   "outputs": [],
   "source": [
    "player_ids = fifa.player_ID.values"
   ]
  },
  {
   "cell_type": "code",
   "execution_count": 38,
   "metadata": {},
   "outputs": [],
   "source": [
    "# Splitting the data so we don't have to retrieve all of the data at once\n",
    "ids1, ids2, ids3, ids4, ids5, ids6, ids7, ids8, ids9, ids10 = np.array_split(player_ids, 10)"
   ]
  },
  {
   "cell_type": "markdown",
   "metadata": {},
   "source": [
    "***"
   ]
  },
  {
   "cell_type": "markdown",
   "metadata": {},
   "source": [
    "## Scraping the Futbin-ID\n",
    "<a id=\"ld\" > "
   ]
  },
  {
   "cell_type": "code",
   "execution_count": 19,
   "metadata": {},
   "outputs": [],
   "source": [
    "domain = 'https://www.futbin.com'\n",
    "version = 19\n",
    "section = 'player'\n",
    "\n",
    "FUTBIN_IDs=[]\n",
    "PLAYER_IDs=[]\n",
    "\n",
    "\n",
    "# We need to get the special Futbin-ID for each player in order to subsequently scrape the price data\n",
    "def get_futbin_ID(player_ids):\n",
    "    for ID in player_ids:\n",
    "        url = \"%s/%s/%s/%s\"% (domain, version, section, ID)\n",
    "        page = requests.get(url)\n",
    "        soup = BeautifulSoup(page.text, 'html.parser')\n",
    "        FUTBIN_ID = soup.find(\"div\", {\"id\": \"page-info\"})['data-player-resource']\n",
    "        FUTBIN_IDs.append(FUTBIN_ID)\n",
    "        PLAYER_IDs.append(ID)  \n",
    "        # Printing the Progress\n",
    "        if len(FUTBIN_IDs)%200==0:\n",
    "            print len(FUTBIN_IDs)"
   ]
  },
  {
   "cell_type": "code",
   "execution_count": 21,
   "metadata": {
    "scrolled": false
   },
   "outputs": [
    {
     "name": "stdout",
     "output_type": "stream",
     "text": [
      "200\n",
      "400\n",
      "600\n",
      "800\n",
      "1000\n",
      "1200\n",
      "1400\n",
      "1600\n"
     ]
    }
   ],
   "source": [
    "get_futbin_ID(ids1)"
   ]
  },
  {
   "cell_type": "code",
   "execution_count": 22,
   "metadata": {},
   "outputs": [
    {
     "name": "stdout",
     "output_type": "stream",
     "text": [
      "1800\n",
      "2000\n",
      "2200\n",
      "2400\n",
      "2600\n",
      "2800\n",
      "3000\n",
      "3200\n"
     ]
    }
   ],
   "source": [
    "get_futbin_ID(ids2)"
   ]
  },
  {
   "cell_type": "code",
   "execution_count": 23,
   "metadata": {},
   "outputs": [
    {
     "name": "stdout",
     "output_type": "stream",
     "text": [
      "3400\n",
      "3600\n",
      "3800\n",
      "4000\n",
      "4200\n",
      "4400\n",
      "4600\n",
      "4800\n"
     ]
    }
   ],
   "source": [
    "get_futbin_ID(ids3)"
   ]
  },
  {
   "cell_type": "code",
   "execution_count": 24,
   "metadata": {},
   "outputs": [
    {
     "name": "stdout",
     "output_type": "stream",
     "text": [
      "5000\n",
      "5200\n",
      "5400\n",
      "5600\n",
      "5800\n",
      "6000\n",
      "6200\n",
      "6400\n"
     ]
    }
   ],
   "source": [
    "get_futbin_ID(ids4)"
   ]
  },
  {
   "cell_type": "code",
   "execution_count": 25,
   "metadata": {},
   "outputs": [
    {
     "name": "stdout",
     "output_type": "stream",
     "text": [
      "6600\n",
      "6800\n",
      "7000\n",
      "7200\n",
      "7400\n",
      "7600\n",
      "7800\n",
      "8000\n",
      "8200\n"
     ]
    }
   ],
   "source": [
    "get_futbin_ID(ids5)"
   ]
  },
  {
   "cell_type": "code",
   "execution_count": 26,
   "metadata": {},
   "outputs": [
    {
     "name": "stdout",
     "output_type": "stream",
     "text": [
      "8400\n",
      "8600\n",
      "8800\n",
      "9000\n",
      "9200\n",
      "9400\n",
      "9600\n",
      "9800\n"
     ]
    }
   ],
   "source": [
    "get_futbin_ID(ids6)"
   ]
  },
  {
   "cell_type": "code",
   "execution_count": 27,
   "metadata": {},
   "outputs": [
    {
     "name": "stdout",
     "output_type": "stream",
     "text": [
      "10000\n",
      "10200\n",
      "10400\n",
      "10600\n",
      "10800\n",
      "11000\n",
      "11200\n",
      "11400\n"
     ]
    }
   ],
   "source": [
    "get_futbin_ID(ids7)"
   ]
  },
  {
   "cell_type": "code",
   "execution_count": 28,
   "metadata": {},
   "outputs": [
    {
     "name": "stdout",
     "output_type": "stream",
     "text": [
      "11600\n",
      "11800\n",
      "12000\n",
      "12200\n",
      "12400\n",
      "12600\n",
      "12800\n",
      "13000\n"
     ]
    }
   ],
   "source": [
    "get_futbin_ID(ids8)"
   ]
  },
  {
   "cell_type": "code",
   "execution_count": 30,
   "metadata": {},
   "outputs": [
    {
     "name": "stdout",
     "output_type": "stream",
     "text": [
      "14800\n",
      "15000\n",
      "15200\n",
      "15400\n",
      "15600\n",
      "15800\n",
      "16000\n",
      "16200\n"
     ]
    }
   ],
   "source": [
    "get_futbin_ID(ids9)"
   ]
  },
  {
   "cell_type": "code",
   "execution_count": 39,
   "metadata": {},
   "outputs": [
    {
     "name": "stdout",
     "output_type": "stream",
     "text": [
      "17800\n",
      "18000\n",
      "18200\n",
      "18400\n",
      "18600\n",
      "18800\n",
      "19000\n",
      "19200\n"
     ]
    }
   ],
   "source": [
    "get_futbin_ID(ids10)"
   ]
  },
  {
   "cell_type": "code",
   "execution_count": 40,
   "metadata": {},
   "outputs": [
    {
     "data": {
      "text/plain": [
       "19308"
      ]
     },
     "execution_count": 40,
     "metadata": {},
     "output_type": "execute_result"
    }
   ],
   "source": [
    "len(FUTBIN_IDs)"
   ]
  },
  {
   "cell_type": "code",
   "execution_count": 41,
   "metadata": {},
   "outputs": [
    {
     "data": {
      "text/plain": [
       "19308"
      ]
     },
     "execution_count": 41,
     "metadata": {},
     "output_type": "execute_result"
    }
   ],
   "source": [
    "len(PLAYER_IDs)"
   ]
  },
  {
   "cell_type": "code",
   "execution_count": 42,
   "metadata": {},
   "outputs": [],
   "source": [
    "# Creating a Dataframe for the IDs\n",
    "ID_df = pd.DataFrame({'Futbin_ID': FUTBIN_IDs,\n",
    "                      'player_ID': PLAYER_IDs})"
   ]
  },
  {
   "cell_type": "code",
   "execution_count": 49,
   "metadata": {
    "scrolled": true
   },
   "outputs": [
    {
     "data": {
      "text/plain": [
       "0"
      ]
     },
     "execution_count": 49,
     "metadata": {},
     "output_type": "execute_result"
    }
   ],
   "source": [
    "ID_df.duplicated().sum()"
   ]
  },
  {
   "cell_type": "code",
   "execution_count": 48,
   "metadata": {},
   "outputs": [],
   "source": [
    "ID_df = ID_df.drop_duplicates()"
   ]
  },
  {
   "cell_type": "code",
   "execution_count": 45,
   "metadata": {},
   "outputs": [
    {
     "data": {
      "text/plain": [
       "(16462, 83)"
      ]
     },
     "execution_count": 45,
     "metadata": {},
     "output_type": "execute_result"
    }
   ],
   "source": [
    "fifa.shape"
   ]
  },
  {
   "cell_type": "code",
   "execution_count": 50,
   "metadata": {},
   "outputs": [
    {
     "data": {
      "text/plain": [
       "(16462, 2)"
      ]
     },
     "execution_count": 50,
     "metadata": {},
     "output_type": "execute_result"
    }
   ],
   "source": [
    "ID_df.shape"
   ]
  },
  {
   "cell_type": "code",
   "execution_count": 51,
   "metadata": {},
   "outputs": [],
   "source": [
    "# Saving the Player- and Futbin-ID as CSV\n",
    "ID_df.to_csv('Player_Futbin_ID.csv')"
   ]
  },
  {
   "cell_type": "code",
   "execution_count": 52,
   "metadata": {},
   "outputs": [],
   "source": [
    "# Appending the original Fifa data with the Futbin-ID\n",
    "fifa_w_futbin_ID = pd.merge(fifa, ID_df, on='player_ID')"
   ]
  },
  {
   "cell_type": "code",
   "execution_count": 113,
   "metadata": {},
   "outputs": [
    {
     "data": {
      "text/html": [
       "<div>\n",
       "<style scoped>\n",
       "    .dataframe tbody tr th:only-of-type {\n",
       "        vertical-align: middle;\n",
       "    }\n",
       "\n",
       "    .dataframe tbody tr th {\n",
       "        vertical-align: top;\n",
       "    }\n",
       "\n",
       "    .dataframe thead th {\n",
       "        text-align: right;\n",
       "    }\n",
       "</style>\n",
       "<table border=\"1\" class=\"dataframe\">\n",
       "  <thead>\n",
       "    <tr style=\"text-align: right;\">\n",
       "      <th></th>\n",
       "      <th>player_ID</th>\n",
       "      <th>player_name</th>\n",
       "      <th>player_extended_name</th>\n",
       "      <th>quality</th>\n",
       "      <th>revision</th>\n",
       "      <th>origin</th>\n",
       "      <th>overall</th>\n",
       "      <th>club</th>\n",
       "      <th>league</th>\n",
       "      <th>nationality</th>\n",
       "      <th>...</th>\n",
       "      <th>lf</th>\n",
       "      <th>rw</th>\n",
       "      <th>lw</th>\n",
       "      <th>st</th>\n",
       "      <th>price_ps4</th>\n",
       "      <th>price_xbox</th>\n",
       "      <th>price_pc</th>\n",
       "      <th>traits</th>\n",
       "      <th>specialties</th>\n",
       "      <th>Futbin_ID</th>\n",
       "    </tr>\n",
       "  </thead>\n",
       "  <tbody>\n",
       "    <tr>\n",
       "      <th>0</th>\n",
       "      <td>2</td>\n",
       "      <td>Maradona</td>\n",
       "      <td>Diego Maradona</td>\n",
       "      <td>Gold - Rare</td>\n",
       "      <td>Icon</td>\n",
       "      <td>NaN</td>\n",
       "      <td>97</td>\n",
       "      <td>Icons</td>\n",
       "      <td>Icons</td>\n",
       "      <td>Argentina</td>\n",
       "      <td>...</td>\n",
       "      <td>94</td>\n",
       "      <td>94</td>\n",
       "      <td>94.0</td>\n",
       "      <td>90</td>\n",
       "      <td>NaN</td>\n",
       "      <td>NaN</td>\n",
       "      <td>NaN</td>\n",
       "      <td>Avoids Using Weaker Foot, Finesse Shot, Flair,...</td>\n",
       "      <td>Speedster, Dribbler, Play Maker, Distance Shoo...</td>\n",
       "      <td>190042</td>\n",
       "    </tr>\n",
       "    <tr>\n",
       "      <th>1</th>\n",
       "      <td>3</td>\n",
       "      <td>Ronaldo</td>\n",
       "      <td>Nazário de Lima Ronaldo Luís</td>\n",
       "      <td>Gold - Rare</td>\n",
       "      <td>Icon</td>\n",
       "      <td>NaN</td>\n",
       "      <td>96</td>\n",
       "      <td>Icons</td>\n",
       "      <td>Icons</td>\n",
       "      <td>Brazil</td>\n",
       "      <td>...</td>\n",
       "      <td>94</td>\n",
       "      <td>92</td>\n",
       "      <td>92.0</td>\n",
       "      <td>94</td>\n",
       "      <td>NaN</td>\n",
       "      <td>15000000.0</td>\n",
       "      <td>NaN</td>\n",
       "      <td>Tries To Beat Defensive Line, Finesse Shot</td>\n",
       "      <td>Speedster, Dribbler, Distance Shooter, FK Spec...</td>\n",
       "      <td>37576</td>\n",
       "    </tr>\n",
       "    <tr>\n",
       "      <th>2</th>\n",
       "      <td>4</td>\n",
       "      <td>Pelé</td>\n",
       "      <td>Arantes Nascimento Edson</td>\n",
       "      <td>Gold - Rare</td>\n",
       "      <td>Icon</td>\n",
       "      <td>NaN</td>\n",
       "      <td>95</td>\n",
       "      <td>Icons</td>\n",
       "      <td>Icons</td>\n",
       "      <td>Brazil</td>\n",
       "      <td>...</td>\n",
       "      <td>94</td>\n",
       "      <td>94</td>\n",
       "      <td>94.0</td>\n",
       "      <td>92</td>\n",
       "      <td>9250000.0</td>\n",
       "      <td>6200000.0</td>\n",
       "      <td>NaN</td>\n",
       "      <td>Finesse Shot</td>\n",
       "      <td>Speedster, Dribbler, Distance Shooter, Crosser...</td>\n",
       "      <td>237068</td>\n",
       "    </tr>\n",
       "    <tr>\n",
       "      <th>3</th>\n",
       "      <td>5</td>\n",
       "      <td>Maradona</td>\n",
       "      <td>Diego Maradona</td>\n",
       "      <td>Gold - Rare</td>\n",
       "      <td>Icon</td>\n",
       "      <td>NaN</td>\n",
       "      <td>95</td>\n",
       "      <td>Icons</td>\n",
       "      <td>Icons</td>\n",
       "      <td>Argentina</td>\n",
       "      <td>...</td>\n",
       "      <td>92</td>\n",
       "      <td>92</td>\n",
       "      <td>92.0</td>\n",
       "      <td>88</td>\n",
       "      <td>5000000.0</td>\n",
       "      <td>2799000.0</td>\n",
       "      <td>NaN</td>\n",
       "      <td>Avoids Using Weaker Foot, Finesse Shot, Flair,...</td>\n",
       "      <td>Dribbler, Play Maker, Distance Shooter, Crosse...</td>\n",
       "      <td>237074</td>\n",
       "    </tr>\n",
       "    <tr>\n",
       "      <th>4</th>\n",
       "      <td>6</td>\n",
       "      <td>Maldini</td>\n",
       "      <td>Paolo Maldini</td>\n",
       "      <td>Gold - Rare</td>\n",
       "      <td>Icon</td>\n",
       "      <td>NaN</td>\n",
       "      <td>94</td>\n",
       "      <td>Icons</td>\n",
       "      <td>Icons</td>\n",
       "      <td>Italy</td>\n",
       "      <td>...</td>\n",
       "      <td>68</td>\n",
       "      <td>69</td>\n",
       "      <td>69.0</td>\n",
       "      <td>70</td>\n",
       "      <td>NaN</td>\n",
       "      <td>NaN</td>\n",
       "      <td>NaN</td>\n",
       "      <td>Team Player</td>\n",
       "      <td>Aerial Threat, Tackler, Tactician, Complete De...</td>\n",
       "      <td>238439</td>\n",
       "    </tr>\n",
       "  </tbody>\n",
       "</table>\n",
       "<p>5 rows × 84 columns</p>\n",
       "</div>"
      ],
      "text/plain": [
       "   player_ID player_name          player_extended_name      quality revision  \\\n",
       "0          2    Maradona                Diego Maradona  Gold - Rare     Icon   \n",
       "1          3     Ronaldo  Nazário de Lima Ronaldo Luís  Gold - Rare     Icon   \n",
       "2          4        Pelé      Arantes Nascimento Edson  Gold - Rare     Icon   \n",
       "3          5    Maradona                Diego Maradona  Gold - Rare     Icon   \n",
       "4          6     Maldini                 Paolo Maldini  Gold - Rare     Icon   \n",
       "\n",
       "  origin  overall   club league nationality    ...      lf  rw    lw  st  \\\n",
       "0    NaN       97  Icons  Icons   Argentina    ...      94  94  94.0  90   \n",
       "1    NaN       96  Icons  Icons      Brazil    ...      94  92  92.0  94   \n",
       "2    NaN       95  Icons  Icons      Brazil    ...      94  94  94.0  92   \n",
       "3    NaN       95  Icons  Icons   Argentina    ...      92  92  92.0  88   \n",
       "4    NaN       94  Icons  Icons       Italy    ...      68  69  69.0  70   \n",
       "\n",
       "   price_ps4  price_xbox  price_pc  \\\n",
       "0        NaN         NaN       NaN   \n",
       "1        NaN  15000000.0       NaN   \n",
       "2  9250000.0   6200000.0       NaN   \n",
       "3  5000000.0   2799000.0       NaN   \n",
       "4        NaN         NaN       NaN   \n",
       "\n",
       "                                              traits  \\\n",
       "0  Avoids Using Weaker Foot, Finesse Shot, Flair,...   \n",
       "1         Tries To Beat Defensive Line, Finesse Shot   \n",
       "2                                       Finesse Shot   \n",
       "3  Avoids Using Weaker Foot, Finesse Shot, Flair,...   \n",
       "4                                        Team Player   \n",
       "\n",
       "                                         specialties  Futbin_ID  \n",
       "0  Speedster, Dribbler, Play Maker, Distance Shoo...     190042  \n",
       "1  Speedster, Dribbler, Distance Shooter, FK Spec...      37576  \n",
       "2  Speedster, Dribbler, Distance Shooter, Crosser...     237068  \n",
       "3  Dribbler, Play Maker, Distance Shooter, Crosse...     237074  \n",
       "4  Aerial Threat, Tackler, Tactician, Complete De...     238439  \n",
       "\n",
       "[5 rows x 84 columns]"
      ]
     },
     "execution_count": 113,
     "metadata": {},
     "output_type": "execute_result"
    }
   ],
   "source": [
    "fifa_w_futbin_ID.head()"
   ]
  },
  {
   "cell_type": "code",
   "execution_count": 55,
   "metadata": {},
   "outputs": [],
   "source": [
    "# Saving the updated Fifa data as CSV\n",
    "fifa_w_futbin_ID.to_csv('Fifa_w_Futbin_ID.csv')"
   ]
  },
  {
   "cell_type": "markdown",
   "metadata": {},
   "source": [
    "***"
   ]
  },
  {
   "cell_type": "markdown",
   "metadata": {},
   "source": [
    "## Scraping the Time-Series Data\n",
    "<a id=\"ts\" > "
   ]
  },
  {
   "cell_type": "code",
   "execution_count": 56,
   "metadata": {},
   "outputs": [
    {
     "data": {
      "text/plain": [
       "0"
      ]
     },
     "execution_count": 56,
     "metadata": {},
     "output_type": "execute_result"
    }
   ],
   "source": [
    "fifa_w_futbin_ID['Futbin_ID'].duplicated().sum()"
   ]
  },
  {
   "cell_type": "code",
   "execution_count": 58,
   "metadata": {},
   "outputs": [],
   "source": [
    "# We make a dictionairy out of both the IDs\n",
    "names_ids= dict(zip(fifa_w_futbin_ID['player_name'], fifa_w_futbin_ID['Futbin_ID']))"
   ]
  },
  {
   "cell_type": "code",
   "execution_count": 59,
   "metadata": {},
   "outputs": [],
   "source": [
    "# Source: https://gist.github.com/miloir/2196917\n",
    "def split_dict_equally(input_dict, chunks=2):\n",
    "    \"Splits dict by keys. Returns a list of dictionaries.\"\n",
    "    # prep with empty dicts\n",
    "    return_list = [dict() for idx in xrange(chunks)]\n",
    "    idx = 0\n",
    "    for k,v in input_dict.iteritems():\n",
    "        return_list[idx][k] = v\n",
    "        if idx < chunks-1:  # indexes start at 0\n",
    "            idx += 1\n",
    "        else:\n",
    "            idx = 0\n",
    "    return return_list"
   ]
  },
  {
   "cell_type": "code",
   "execution_count": 61,
   "metadata": {},
   "outputs": [],
   "source": [
    "# Splittting the dcitionairy into multiple parts so we dont have to retrieve all of the data at once\n",
    "dict1, dict2, dict3, dict4, dict5, dict6, dict7, dict8, dict9, dict10 = split_dict_equally(names_ids, chunks=10)"
   ]
  },
  {
   "cell_type": "code",
   "execution_count": 65,
   "metadata": {},
   "outputs": [],
   "source": [
    "# We use the Futbin-ID to scrape the time sereis data for each player\n",
    "dates=[]\n",
    "prices=[]\n",
    "names=[]\n",
    "IDs=[]\n",
    "\n",
    "def get_prices(name_ID):\n",
    "    for (name, ID) in name_ID.items():\n",
    "        r = requests.get('https://www.futbin.com/19/playerGraph?type=daily_graph&year=19&player={0}'.format(ID))\n",
    "        data = r.json()\n",
    "        #Change ps to xbox or pc to get other prices\n",
    "        for price in data['ps']:\n",
    "            #There is extra zeroes in response.\n",
    "            date = datetime.utcfromtimestamp(price[0] / 1000).strftime('%Y-%m-%d')\n",
    "            dates.append(date)\n",
    "            price = price[1]\n",
    "            prices.append(price)\n",
    "            names.append(name)\n",
    "            IDs.append(ID)\n",
    "            # Printing the progress\n",
    "            if len(names)%1000==0 :\n",
    "                print(len(names))"
   ]
  },
  {
   "cell_type": "code",
   "execution_count": 66,
   "metadata": {},
   "outputs": [
    {
     "name": "stdout",
     "output_type": "stream",
     "text": [
      "1000\n",
      "2000\n",
      "3000\n",
      "4000\n",
      "5000\n",
      "6000\n",
      "7000\n",
      "8000\n",
      "9000\n",
      "10000\n",
      "11000\n",
      "12000\n",
      "13000\n",
      "14000\n",
      "15000\n",
      "16000\n",
      "17000\n",
      "18000\n",
      "19000\n",
      "20000\n",
      "21000\n"
     ]
    }
   ],
   "source": [
    "get_prices(dict1)"
   ]
  },
  {
   "cell_type": "code",
   "execution_count": 80,
   "metadata": {},
   "outputs": [
    {
     "name": "stdout",
     "output_type": "stream",
     "text": [
      "43000\n",
      "44000\n",
      "45000\n",
      "46000\n",
      "47000\n",
      "48000\n",
      "49000\n",
      "50000\n",
      "51000\n",
      "52000\n",
      "53000\n",
      "54000\n",
      "55000\n",
      "56000\n",
      "57000\n",
      "58000\n",
      "59000\n",
      "60000\n",
      "61000\n",
      "62000\n",
      "63000\n"
     ]
    }
   ],
   "source": [
    "get_prices(dict2)"
   ]
  },
  {
   "cell_type": "code",
   "execution_count": 81,
   "metadata": {},
   "outputs": [
    {
     "name": "stdout",
     "output_type": "stream",
     "text": [
      "64000\n",
      "65000\n",
      "66000\n",
      "67000\n",
      "68000\n",
      "69000\n",
      "70000\n",
      "71000\n",
      "72000\n",
      "73000\n",
      "74000\n",
      "75000\n",
      "76000\n",
      "77000\n",
      "78000\n",
      "79000\n",
      "80000\n",
      "81000\n",
      "82000\n",
      "83000\n",
      "84000\n"
     ]
    }
   ],
   "source": [
    "get_prices(dict3)"
   ]
  },
  {
   "cell_type": "code",
   "execution_count": 82,
   "metadata": {},
   "outputs": [
    {
     "name": "stdout",
     "output_type": "stream",
     "text": [
      "85000\n",
      "86000\n",
      "87000\n",
      "88000\n",
      "89000\n",
      "90000\n",
      "91000\n",
      "92000\n",
      "93000\n",
      "94000\n",
      "95000\n",
      "96000\n",
      "97000\n",
      "98000\n",
      "99000\n",
      "100000\n",
      "101000\n",
      "102000\n",
      "103000\n",
      "104000\n",
      "105000\n"
     ]
    }
   ],
   "source": [
    "get_prices(dict4)"
   ]
  },
  {
   "cell_type": "code",
   "execution_count": 85,
   "metadata": {},
   "outputs": [
    {
     "name": "stdout",
     "output_type": "stream",
     "text": [
      "106000\n",
      "107000\n",
      "108000\n",
      "109000\n",
      "110000\n",
      "111000\n",
      "112000\n",
      "113000\n",
      "114000\n",
      "115000\n",
      "116000\n",
      "117000\n",
      "118000\n",
      "119000\n",
      "120000\n",
      "121000\n",
      "122000\n",
      "123000\n",
      "124000\n",
      "125000\n",
      "126000\n"
     ]
    }
   ],
   "source": [
    "get_prices(dict5)"
   ]
  },
  {
   "cell_type": "code",
   "execution_count": 86,
   "metadata": {},
   "outputs": [
    {
     "name": "stdout",
     "output_type": "stream",
     "text": [
      "127000\n",
      "128000\n",
      "129000\n",
      "130000\n",
      "131000\n",
      "132000\n",
      "133000\n",
      "134000\n",
      "135000\n",
      "136000\n",
      "137000\n",
      "138000\n",
      "139000\n",
      "140000\n",
      "141000\n",
      "142000\n",
      "143000\n",
      "144000\n",
      "145000\n",
      "146000\n",
      "147000\n"
     ]
    }
   ],
   "source": [
    "get_prices(dict6)"
   ]
  },
  {
   "cell_type": "code",
   "execution_count": 89,
   "metadata": {},
   "outputs": [
    {
     "name": "stdout",
     "output_type": "stream",
     "text": [
      "148000\n",
      "149000\n",
      "150000\n",
      "151000\n",
      "152000\n",
      "153000\n",
      "154000\n",
      "155000\n",
      "156000\n",
      "157000\n",
      "158000\n",
      "159000\n",
      "160000\n",
      "161000\n",
      "162000\n",
      "163000\n",
      "164000\n",
      "165000\n",
      "166000\n",
      "167000\n",
      "168000\n"
     ]
    }
   ],
   "source": [
    "get_prices(dict7)"
   ]
  },
  {
   "cell_type": "code",
   "execution_count": 94,
   "metadata": {},
   "outputs": [
    {
     "name": "stdout",
     "output_type": "stream",
     "text": [
      "169000\n",
      "170000\n",
      "171000\n",
      "172000\n",
      "173000\n",
      "174000\n",
      "175000\n",
      "176000\n",
      "177000\n",
      "178000\n",
      "179000\n",
      "180000\n",
      "181000\n",
      "182000\n",
      "183000\n",
      "184000\n",
      "185000\n",
      "186000\n",
      "187000\n",
      "188000\n",
      "189000\n"
     ]
    }
   ],
   "source": [
    "get_prices(dict8)"
   ]
  },
  {
   "cell_type": "code",
   "execution_count": 95,
   "metadata": {},
   "outputs": [
    {
     "name": "stdout",
     "output_type": "stream",
     "text": [
      "190000\n",
      "191000\n",
      "192000\n",
      "193000\n",
      "194000\n",
      "195000\n",
      "196000\n",
      "197000\n",
      "198000\n",
      "199000\n",
      "200000\n",
      "201000\n",
      "202000\n",
      "203000\n",
      "204000\n",
      "205000\n",
      "206000\n",
      "207000\n",
      "208000\n",
      "209000\n",
      "210000\n"
     ]
    }
   ],
   "source": [
    "get_prices(dict9)"
   ]
  },
  {
   "cell_type": "code",
   "execution_count": 97,
   "metadata": {},
   "outputs": [
    {
     "name": "stdout",
     "output_type": "stream",
     "text": [
      "228000\n",
      "229000\n",
      "230000\n",
      "231000\n",
      "232000\n",
      "233000\n",
      "234000\n",
      "235000\n",
      "236000\n",
      "237000\n",
      "238000\n",
      "239000\n",
      "240000\n",
      "241000\n",
      "242000\n",
      "243000\n",
      "244000\n",
      "245000\n",
      "246000\n",
      "247000\n",
      "248000\n"
     ]
    }
   ],
   "source": [
    "get_prices(dict10)"
   ]
  },
  {
   "cell_type": "code",
   "execution_count": 98,
   "metadata": {},
   "outputs": [],
   "source": [
    "# We create a dataframe with the time-series price data for each player\n",
    "time_series_df = pd.DataFrame({'Futbin_ID': IDs,\n",
    "                               'Name': names,\n",
    "                               'price': prices,\n",
    "                               'date': dates})"
   ]
  },
  {
   "cell_type": "code",
   "execution_count": 101,
   "metadata": {},
   "outputs": [
    {
     "data": {
      "text/plain": [
       "0"
      ]
     },
     "execution_count": 101,
     "metadata": {},
     "output_type": "execute_result"
    }
   ],
   "source": [
    "time_series_df.duplicated().sum()"
   ]
  },
  {
   "cell_type": "code",
   "execution_count": 100,
   "metadata": {},
   "outputs": [],
   "source": [
    "time_series_df = time_series_df.drop_duplicates()"
   ]
  },
  {
   "cell_type": "code",
   "execution_count": 102,
   "metadata": {},
   "outputs": [],
   "source": [
    "# We save the time-series price data for each player\n",
    "time_series_df.to_csv('fifa_price_time_series.csv')"
   ]
  },
  {
   "cell_type": "code",
   "execution_count": 103,
   "metadata": {},
   "outputs": [
    {
     "data": {
      "text/plain": [
       "(210715, 4)"
      ]
     },
     "execution_count": 103,
     "metadata": {},
     "output_type": "execute_result"
    }
   ],
   "source": [
    "time_series_df.shape"
   ]
  },
  {
   "cell_type": "code",
   "execution_count": 109,
   "metadata": {},
   "outputs": [],
   "source": [
    "# We create a dataframe with the time-series data and all other information available for the player\n",
    "time_series_full = pd.merge(time_series_df, fifa_w_futbin_ID, how='left', on=['Futbin_ID'])"
   ]
  },
  {
   "cell_type": "code",
   "execution_count": 105,
   "metadata": {},
   "outputs": [
    {
     "data": {
      "text/plain": [
       "(210715, 87)"
      ]
     },
     "execution_count": 105,
     "metadata": {},
     "output_type": "execute_result"
    }
   ],
   "source": [
    "df_try.shape"
   ]
  },
  {
   "cell_type": "code",
   "execution_count": 114,
   "metadata": {},
   "outputs": [
    {
     "data": {
      "text/html": [
       "<div>\n",
       "<style scoped>\n",
       "    .dataframe tbody tr th:only-of-type {\n",
       "        vertical-align: middle;\n",
       "    }\n",
       "\n",
       "    .dataframe tbody tr th {\n",
       "        vertical-align: top;\n",
       "    }\n",
       "\n",
       "    .dataframe thead th {\n",
       "        text-align: right;\n",
       "    }\n",
       "</style>\n",
       "<table border=\"1\" class=\"dataframe\">\n",
       "  <thead>\n",
       "    <tr style=\"text-align: right;\">\n",
       "      <th></th>\n",
       "      <th>Futbin_ID</th>\n",
       "      <th>Name</th>\n",
       "      <th>date</th>\n",
       "      <th>price</th>\n",
       "      <th>player_ID</th>\n",
       "      <th>player_name</th>\n",
       "      <th>player_extended_name</th>\n",
       "      <th>quality</th>\n",
       "      <th>revision</th>\n",
       "      <th>origin</th>\n",
       "      <th>...</th>\n",
       "      <th>rf</th>\n",
       "      <th>lf</th>\n",
       "      <th>rw</th>\n",
       "      <th>lw</th>\n",
       "      <th>st</th>\n",
       "      <th>price_ps4</th>\n",
       "      <th>price_xbox</th>\n",
       "      <th>price_pc</th>\n",
       "      <th>traits</th>\n",
       "      <th>specialties</th>\n",
       "    </tr>\n",
       "  </thead>\n",
       "  <tbody>\n",
       "    <tr>\n",
       "      <th>0</th>\n",
       "      <td>242147</td>\n",
       "      <td>Piñones</td>\n",
       "      <td>2018-09-21</td>\n",
       "      <td>200</td>\n",
       "      <td>12833</td>\n",
       "      <td>Piñones</td>\n",
       "      <td>Wilson Piñones</td>\n",
       "      <td>Bronze</td>\n",
       "      <td>Normal</td>\n",
       "      <td>NaN</td>\n",
       "      <td>...</td>\n",
       "      <td>53</td>\n",
       "      <td>53</td>\n",
       "      <td>54</td>\n",
       "      <td>54.0</td>\n",
       "      <td>52</td>\n",
       "      <td>200.0</td>\n",
       "      <td>200.0</td>\n",
       "      <td>NaN</td>\n",
       "      <td>NaN</td>\n",
       "      <td>NaN</td>\n",
       "    </tr>\n",
       "    <tr>\n",
       "      <th>1</th>\n",
       "      <td>242147</td>\n",
       "      <td>Piñones</td>\n",
       "      <td>2018-09-22</td>\n",
       "      <td>200</td>\n",
       "      <td>12833</td>\n",
       "      <td>Piñones</td>\n",
       "      <td>Wilson Piñones</td>\n",
       "      <td>Bronze</td>\n",
       "      <td>Normal</td>\n",
       "      <td>NaN</td>\n",
       "      <td>...</td>\n",
       "      <td>53</td>\n",
       "      <td>53</td>\n",
       "      <td>54</td>\n",
       "      <td>54.0</td>\n",
       "      <td>52</td>\n",
       "      <td>200.0</td>\n",
       "      <td>200.0</td>\n",
       "      <td>NaN</td>\n",
       "      <td>NaN</td>\n",
       "      <td>NaN</td>\n",
       "    </tr>\n",
       "    <tr>\n",
       "      <th>2</th>\n",
       "      <td>242147</td>\n",
       "      <td>Piñones</td>\n",
       "      <td>2018-09-23</td>\n",
       "      <td>200</td>\n",
       "      <td>12833</td>\n",
       "      <td>Piñones</td>\n",
       "      <td>Wilson Piñones</td>\n",
       "      <td>Bronze</td>\n",
       "      <td>Normal</td>\n",
       "      <td>NaN</td>\n",
       "      <td>...</td>\n",
       "      <td>53</td>\n",
       "      <td>53</td>\n",
       "      <td>54</td>\n",
       "      <td>54.0</td>\n",
       "      <td>52</td>\n",
       "      <td>200.0</td>\n",
       "      <td>200.0</td>\n",
       "      <td>NaN</td>\n",
       "      <td>NaN</td>\n",
       "      <td>NaN</td>\n",
       "    </tr>\n",
       "    <tr>\n",
       "      <th>3</th>\n",
       "      <td>242147</td>\n",
       "      <td>Piñones</td>\n",
       "      <td>2018-09-24</td>\n",
       "      <td>200</td>\n",
       "      <td>12833</td>\n",
       "      <td>Piñones</td>\n",
       "      <td>Wilson Piñones</td>\n",
       "      <td>Bronze</td>\n",
       "      <td>Normal</td>\n",
       "      <td>NaN</td>\n",
       "      <td>...</td>\n",
       "      <td>53</td>\n",
       "      <td>53</td>\n",
       "      <td>54</td>\n",
       "      <td>54.0</td>\n",
       "      <td>52</td>\n",
       "      <td>200.0</td>\n",
       "      <td>200.0</td>\n",
       "      <td>NaN</td>\n",
       "      <td>NaN</td>\n",
       "      <td>NaN</td>\n",
       "    </tr>\n",
       "    <tr>\n",
       "      <th>4</th>\n",
       "      <td>242147</td>\n",
       "      <td>Piñones</td>\n",
       "      <td>2018-09-25</td>\n",
       "      <td>200</td>\n",
       "      <td>12833</td>\n",
       "      <td>Piñones</td>\n",
       "      <td>Wilson Piñones</td>\n",
       "      <td>Bronze</td>\n",
       "      <td>Normal</td>\n",
       "      <td>NaN</td>\n",
       "      <td>...</td>\n",
       "      <td>53</td>\n",
       "      <td>53</td>\n",
       "      <td>54</td>\n",
       "      <td>54.0</td>\n",
       "      <td>52</td>\n",
       "      <td>200.0</td>\n",
       "      <td>200.0</td>\n",
       "      <td>NaN</td>\n",
       "      <td>NaN</td>\n",
       "      <td>NaN</td>\n",
       "    </tr>\n",
       "  </tbody>\n",
       "</table>\n",
       "<p>5 rows × 87 columns</p>\n",
       "</div>"
      ],
      "text/plain": [
       "  Futbin_ID     Name        date  price  player_ID player_name  \\\n",
       "0    242147  Piñones  2018-09-21    200      12833     Piñones   \n",
       "1    242147  Piñones  2018-09-22    200      12833     Piñones   \n",
       "2    242147  Piñones  2018-09-23    200      12833     Piñones   \n",
       "3    242147  Piñones  2018-09-24    200      12833     Piñones   \n",
       "4    242147  Piñones  2018-09-25    200      12833     Piñones   \n",
       "\n",
       "  player_extended_name quality revision origin     ...      rf  lf  rw    lw  \\\n",
       "0       Wilson Piñones  Bronze   Normal    NaN     ...      53  53  54  54.0   \n",
       "1       Wilson Piñones  Bronze   Normal    NaN     ...      53  53  54  54.0   \n",
       "2       Wilson Piñones  Bronze   Normal    NaN     ...      53  53  54  54.0   \n",
       "3       Wilson Piñones  Bronze   Normal    NaN     ...      53  53  54  54.0   \n",
       "4       Wilson Piñones  Bronze   Normal    NaN     ...      53  53  54  54.0   \n",
       "\n",
       "   st  price_ps4  price_xbox  price_pc  traits specialties  \n",
       "0  52      200.0       200.0       NaN     NaN         NaN  \n",
       "1  52      200.0       200.0       NaN     NaN         NaN  \n",
       "2  52      200.0       200.0       NaN     NaN         NaN  \n",
       "3  52      200.0       200.0       NaN     NaN         NaN  \n",
       "4  52      200.0       200.0       NaN     NaN         NaN  \n",
       "\n",
       "[5 rows x 87 columns]"
      ]
     },
     "execution_count": 114,
     "metadata": {},
     "output_type": "execute_result"
    }
   ],
   "source": [
    "df_try.head()"
   ]
  },
  {
   "cell_type": "code",
   "execution_count": 110,
   "metadata": {},
   "outputs": [],
   "source": [
    "# We save the full time-series data as CSV\n",
    "time_series_full.to_csv('time_series_full.csv')"
   ]
  }
 ],
 "metadata": {
  "kernelspec": {
   "display_name": "Python 2",
   "language": "python",
   "name": "python2"
  },
  "language_info": {
   "codemirror_mode": {
    "name": "ipython",
    "version": 2
   },
   "file_extension": ".py",
   "mimetype": "text/x-python",
   "name": "python",
   "nbconvert_exporter": "python",
   "pygments_lexer": "ipython2",
   "version": "2.7.14"
  }
 },
 "nbformat": 4,
 "nbformat_minor": 2
}
